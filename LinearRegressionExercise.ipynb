{
  "nbformat": 4,
  "nbformat_minor": 0,
  "metadata": {
    "colab": {
      "name": "LinearRegressionExercise.ipynb",
      "provenance": [],
      "authorship_tag": "ABX9TyMYCx3D4d4H4K9eHW8wiaMT",
      "include_colab_link": true
    },
    "kernelspec": {
      "name": "python3",
      "display_name": "Python 3"
    }
  },
  "cells": [
    {
      "cell_type": "markdown",
      "metadata": {
        "id": "view-in-github",
        "colab_type": "text"
      },
      "source": [
        "<a href=\"https://colab.research.google.com/github/cristian-nicp/simpleLinerRegressionExercise/blob/master/LinearRegressionExercise.ipynb\" target=\"_parent\"><img src=\"https://colab.research.google.com/assets/colab-badge.svg\" alt=\"Open In Colab\"/></a>"
      ]
    },
    {
      "cell_type": "code",
      "metadata": {
        "id": "jkwfASvdvc4-",
        "colab_type": "code",
        "colab": {}
      },
      "source": [
        "import numpy as np\n",
        "import matplotlib.pyplot as plt #nos va a mostrar graficamente la regresión lineal"
      ],
      "execution_count": 0,
      "outputs": []
    },
    {
      "cell_type": "code",
      "metadata": {
        "id": "c14LXeDRvkYC",
        "colab_type": "code",
        "colab": {}
      },
      "source": [
        "def estimate_bo_b1(x, y):#función de la regresión lineal\n",
        "    n= np.size(x)#vamos a usar n para la cantidad de datos que vamos a tener en nuestro array de info\n",
        "    #np.size() nos ayuda a contar el tamaño de x\n",
        "    m_x, m_y = np.mean(x), np.mean(y)#mean,calculo de los promedios\n",
        "    #Calcular la sumatoria de XY y la sumatoria de XX\n",
        "    sumatoria_xy = np.sum((x - m_x)*(y - m_y))#a cada valor de x se le resta cada valor del promedio de x(m_x), y lo mismo con y\n",
        "    sumatoria_xx = np.sum(x*(x-m_x))#xcuadrada, es lo mismo que ((x-m_x)**2)\n",
        "    #coeficiente de regresión\n",
        "    b_1 = sumatoria_xy / sumatoria_xx\n",
        "    #k constante,termino independiente\n",
        "    b_0 = m_y - b_1 * m_x\n",
        "\n",
        "    return(b_0, b_1)"
      ],
      "execution_count": 0,
      "outputs": []
    },
    {
      "cell_type": "code",
      "metadata": {
        "id": "Sje1HKfPvnYk",
        "colab_type": "code",
        "colab": {}
      },
      "source": [
        "#Función de gráfico\n",
        "def plot_regression(x , y, b):#voy a plotear mi linea de regresión\n",
        "    plt.scatter(x ,y ,color = \"violet\" ,marker = \"o\" ,s = 30)#,escala de 30 en 30 por ejscalar=scalar_array#voy a poner una grafica de dispersión, de varios puntos#marker,marcadores en forma de punto\n",
        "    #vector de predicciones\n",
        "    y_pred = b[0] + b[1] * x\n",
        "    plt.plot(x ,y_pred ,color = \"aquamarine\")#le estamos dando la orden de graficar la formula de y_pred\n",
        "\n",
        "    #etiquetado\n",
        "    plt.xlabel('x-independiente')\n",
        "    plt.ylabel('y-dependiente')\n",
        "\n",
        "    plt.show()#nos muestra la grafica dibujada"
      ],
      "execution_count": 0,
      "outputs": []
    },
    {
      "cell_type": "code",
      "metadata": {
        "id": "x_chZGBRvqCI",
        "colab_type": "code",
        "outputId": "5ea68e8e-ea26-481d-ac32-a85d7d683e73",
        "colab": {
          "base_uri": "https://localhost:8080/",
          "height": 296
        }
      },
      "source": [
        "#Codigo Main\n",
        "def main():\n",
        "    x = np.array([1,2,3,4,5])#aca ponemos la definición de nuestro dataset\n",
        "    y = np.array([2,3,4,6,8])\n",
        "    #obtenemos b1 y b2\n",
        "    b = estimate_bo_b1(x, y)\n",
        "    print('los valores de b0 = {} y los valores de b1 = {}'.format(b[0] ,b[1]))\n",
        "\n",
        "    #graficamos nuestra linea de regresión\n",
        "    plot_regression(x ,y ,b)\n",
        "\n",
        "if __name__==\"__main__\":\n",
        "    main()"
      ],
      "execution_count": 0,
      "outputs": [
        {
          "output_type": "stream",
          "text": [
            "los valores de b0 = 0.09999999999999964 y los valores de b1 = 1.5\n"
          ],
          "name": "stdout"
        },
        {
          "output_type": "display_data",
          "data": {
            "image/png": "[encoded data removed]",
            "text/plain": [
              "<Figure size 432x288 with 1 Axes>"
            ]
          },
          "metadata": {
            "tags": []
          }
        }
      ]
    }
  ]
}